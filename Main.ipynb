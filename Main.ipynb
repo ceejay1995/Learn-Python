{
 "cells": [
  {
   "cell_type": "code",
   "execution_count": 3,
   "id": "bc2e164f",
   "metadata": {},
   "outputs": [
    {
     "data": {
      "text/plain": [
       "15"
      ]
     },
     "execution_count": 3,
     "metadata": {},
     "output_type": "execute_result"
    }
   ],
   "source": [
    "# main program, for executing module\n",
    "\n",
    "import sample_module as mod # import the module, used 'as' to give nickname\n",
    "\n",
    "# function called inside a module \n",
    "mod.sum(10,5)"
   ]
  },
  {
   "cell_type": "code",
   "execution_count": 6,
   "id": "420a78b1",
   "metadata": {},
   "outputs": [
    {
     "name": "stdout",
     "output_type": "stream",
     "text": [
      "display words\n"
     ]
    }
   ],
   "source": [
    "# use of built-in functions, some need to  first import their module\n",
    "\n",
    "print(\"display words\")"
   ]
  },
  {
   "cell_type": "code",
   "execution_count": 7,
   "id": "3139dab3",
   "metadata": {},
   "outputs": [
    {
     "name": "stdout",
     "output_type": "stream",
     "text": [
      "20\n"
     ]
    }
   ],
   "source": [
    "# return absolute value, negative goes positive \n",
    "x = -20\n",
    "print(abs(x))"
   ]
  },
  {
   "cell_type": "code",
   "execution_count": 8,
   "id": "94f2edd7",
   "metadata": {},
   "outputs": [
    {
     "name": "stdout",
     "output_type": "stream",
     "text": [
      "3\n"
     ]
    }
   ],
   "source": [
    "# round number\n",
    "y = 2.9\n",
    "print(round(y))"
   ]
  },
  {
   "cell_type": "code",
   "execution_count": 9,
   "id": "8e514e99",
   "metadata": {},
   "outputs": [
    {
     "name": "stdout",
     "output_type": "stream",
     "text": [
      "100\n"
     ]
    }
   ],
   "source": [
    "# return highest number among set\n",
    "thismax = max(10,99,88,100)\n",
    "print(thismax)"
   ]
  }
 ],
 "metadata": {
  "kernelspec": {
   "display_name": "Python 3 (ipykernel)",
   "language": "python",
   "name": "python3"
  },
  "language_info": {
   "codemirror_mode": {
    "name": "ipython",
    "version": 3
   },
   "file_extension": ".py",
   "mimetype": "text/x-python",
   "name": "python",
   "nbconvert_exporter": "python",
   "pygments_lexer": "ipython3",
   "version": "3.9.13"
  }
 },
 "nbformat": 4,
 "nbformat_minor": 5
}
