{
 "cells": [
  {
   "cell_type": "code",
   "execution_count": 3,
   "id": "c6e67569",
   "metadata": {},
   "outputs": [
    {
     "data": {
      "text/plain": [
       "15"
      ]
     },
     "execution_count": 3,
     "metadata": {},
     "output_type": "execute_result"
    }
   ],
   "source": [
    "# main program, for executing module\n",
    "\n",
    "import sample_module as mod # import the module, used 'as' to give nickname\n",
    "\n",
    "# function called inside a module \n",
    "mod.sum(10,5)"
   ]
  },
  {
   "cell_type": "code",
   "execution_count": 6,
   "id": "175102e9",
   "metadata": {},
   "outputs": [
    {
     "name": "stdout",
     "output_type": "stream",
     "text": [
      "display words\n"
     ]
    }
   ],
   "source": [
    "# use of built-in functions, some need to  first import their module\n",
    "\n",
    "print(\"display words\")"
   ]
  },
  {
   "cell_type": "code",
   "execution_count": 7,
   "id": "cd82c368",
   "metadata": {},
   "outputs": [
    {
     "name": "stdout",
     "output_type": "stream",
     "text": [
      "20\n"
     ]
    }
   ],
   "source": [
    "# return absolute value, negative goes positive \n",
    "x = -20\n",
    "print(abs(x))"
   ]
  },
  {
   "cell_type": "code",
   "execution_count": 8,
   "id": "dba65a8f",
   "metadata": {},
   "outputs": [
    {
     "name": "stdout",
     "output_type": "stream",
     "text": [
      "3\n"
     ]
    }
   ],
   "source": [
    "# round number\n",
    "y = 2.9\n",
    "print(round(y))"
   ]
  },
  {
   "cell_type": "code",
   "execution_count": 9,
   "id": "a486cf34",
   "metadata": {},
   "outputs": [
    {
     "name": "stdout",
     "output_type": "stream",
     "text": [
      "100\n"
     ]
    }
   ],
   "source": [
    "# return highest number among set  (list, tuple)\n",
    "thismax = max(10,99,88,100)\n",
    "print(thismax)"
   ]
  },
  {
   "cell_type": "code",
   "execution_count": 11,
   "id": "6268d0a7",
   "metadata": {},
   "outputs": [
    {
     "name": "stdout",
     "output_type": "stream",
     "text": [
      "1\n"
     ]
    }
   ],
   "source": [
    "# lowest on set (list, tuple)\n",
    "\n",
    "thelowest = min([80,5,4,1,2,3])\n",
    "print(thelowest)"
   ]
  },
  {
   "cell_type": "code",
   "execution_count": 15,
   "id": "ff95eeab",
   "metadata": {},
   "outputs": [
    {
     "name": "stdout",
     "output_type": "stream",
     "text": [
      "default (10, 99, 88, 100)\n",
      "reverse [100, 99, 88, 10]\n"
     ]
    }
   ],
   "source": [
    "# sort list\n",
    "t = (10,99,88,100)\n",
    "n = sorted(t)\n",
    "print(\"default\",t)\n",
    "print(\"reverse\",sorted(t, reverse=True))"
   ]
  },
  {
   "cell_type": "code",
   "execution_count": 16,
   "id": "678e48e8",
   "metadata": {},
   "outputs": [
    {
     "name": "stdout",
     "output_type": "stream",
     "text": [
      "4\n"
     ]
    }
   ],
   "source": [
    "# check length\n",
    "\n",
    "llen = len(t)\n",
    "print(llen)"
   ]
  },
  {
   "cell_type": "code",
   "execution_count": 17,
   "id": "932833c8",
   "metadata": {},
   "outputs": [
    {
     "name": "stdout",
     "output_type": "stream",
     "text": [
      "<class 'int'>\n"
     ]
    }
   ],
   "source": [
    "# check type\n",
    "\n",
    "print(type(llen))"
   ]
  }
 ],
 "metadata": {
  "kernelspec": {
   "display_name": "Python 3 (ipykernel)",
   "language": "python",
   "name": "python3"
  },
  "language_info": {
   "codemirror_mode": {
    "name": "ipython",
    "version": 3
   },
   "file_extension": ".py",
   "mimetype": "text/x-python",
   "name": "python",
   "nbconvert_exporter": "python",
   "pygments_lexer": "ipython3",
   "version": "3.9.13"
  }
 },
 "nbformat": 4,
 "nbformat_minor": 5
}
