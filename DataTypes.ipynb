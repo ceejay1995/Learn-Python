{
 "cells": [
  {
   "cell_type": "code",
   "execution_count": 9,
   "id": "6313a784",
   "metadata": {},
   "outputs": [
    {
     "name": "stdout",
     "output_type": "stream",
     "text": [
      "H \n",
      " e \n",
      " d\n",
      "He\n"
     ]
    }
   ],
   "source": [
    "#!/usr/bin/env python3\n",
    "#above is she-bang, hash and exclamation point, to specify path\n",
    "# line starts with hash is a comment\n",
    "# variables dont start with number, even special characters\n",
    "\n",
    "hello_str = \"Hello World\" #string type, immutable per character\n",
    "\n",
    "# 1st character, 2nd character, last character\n",
    "print(hello_str[0],\"\\n\",\n",
    "      hello_str[1],\"\\n\",\n",
    "     hello_str[-1])\n",
    "\n",
    "# slice on first 2 characters\n",
    "#print(hello_str[0:2])\n",
    "\n",
    "# string format\n"
   ]
  },
  {
   "cell_type": "code",
   "execution_count": null,
   "id": "d31ebc5d",
   "metadata": {},
   "outputs": [],
   "source": [
    "hello_int = 21 #integer, whole numbers\n",
    "hello_float = 3.14 #with decimal numbers\n",
    "hello_bool= True #boolean, true or false\n",
    "hello_tuple = (1,2,3) #collection,immutable,specific order\n",
    "hello_list = [\"apple\",1,True] #collection,different type\n",
    "print(hello_list)"
   ]
  },
  {
   "cell_type": "code",
   "execution_count": 17,
   "id": "b61bc4cc",
   "metadata": {},
   "outputs": [
    {
     "name": "stdout",
     "output_type": "stream",
     "text": [
      "['New ', 'list ', 'is ', 'here']\n"
     ]
    }
   ],
   "source": [
    "#another way of manipulating list\n",
    "\n",
    "new_list = list()\n",
    "new_list.append(\"New \")\n",
    "new_list.append(\"list \")\n",
    "new_list.append(\"is \")\n",
    "new_list.append(\"here\")\n",
    "print(new_list)"
   ]
  },
  {
   "cell_type": "code",
   "execution_count": 8,
   "id": "2534dc1f",
   "metadata": {},
   "outputs": [
    {
     "name": "stdout",
     "output_type": "stream",
     "text": [
      "{'fname': 'Papa', 'lname': 'Bear', 'Age': 55}\n"
     ]
    }
   ],
   "source": [
    "#dictionary, defined with key-value pair\n",
    "\n",
    "hello_dict = {\"fname\":\"Papa\",\"lname\":\"Bear\",\"Age\":55}\n",
    "print(hello_dict)"
   ]
  },
  {
   "cell_type": "code",
   "execution_count": 4,
   "id": "0f28a017",
   "metadata": {},
   "outputs": [
    {
     "name": "stdout",
     "output_type": "stream",
     "text": [
      "New \n"
     ]
    }
   ],
   "source": [
    "#python is zero-based index, 1st value in list starts in zero\n",
    "\n",
    "print(new_list[0])"
   ]
  },
  {
   "cell_type": "code",
   "execution_count": 5,
   "id": "5e978686",
   "metadata": {},
   "outputs": [
    {
     "name": "stdout",
     "output_type": "stream",
     "text": [
      "['New ', 'list ', 'is ', 'here created.']\n"
     ]
    }
   ],
   "source": [
    "#add value either long hand or short hand operators\n",
    "new_list[3] = new_list[3] + \" created\" #long way\n",
    "new_list[3] += \".\" #short way\n",
    "print(new_list)"
   ]
  },
  {
   "cell_type": "code",
   "execution_count": 16,
   "id": "e172e859",
   "metadata": {},
   "outputs": [
    {
     "name": "stdout",
     "output_type": "stream",
     "text": [
      "1\n",
      "Bear, Papa with age 55\n",
      "Papa Bear has age of 55\n"
     ]
    }
   ],
   "source": [
    "print(str(hello_tuple[0]))\n",
    "#access its element with square brackets\n",
    "\n",
    "print(hello_dict[\"lname\"]+\", \"+hello_dict[\"fname\"]+\" with age \"+str(hello_dict[\"Age\"]))\n",
    "\n",
    "#use string formatter here, number is required\n",
    "print(\"{1} {0} has age of {2}\".format(hello_dict[\"lname\"],hello_dict[\"fname\"],hello_dict[\"Age\"]))\n"
   ]
  },
  {
   "cell_type": "code",
   "execution_count": null,
   "id": "768356b2",
   "metadata": {},
   "outputs": [],
   "source": []
  }
 ],
 "metadata": {
  "kernelspec": {
   "display_name": "Python 3 (ipykernel)",
   "language": "python",
   "name": "python3"
  },
  "language_info": {
   "codemirror_mode": {
    "name": "ipython",
    "version": 3
   },
   "file_extension": ".py",
   "mimetype": "text/x-python",
   "name": "python",
   "nbconvert_exporter": "python",
   "pygments_lexer": "ipython3",
   "version": "3.9.13"
  }
 },
 "nbformat": 4,
 "nbformat_minor": 5
}
