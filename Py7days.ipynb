{
 "cells": [
  {
   "cell_type": "code",
   "execution_count": 1,
   "id": "9cd64ed1",
   "metadata": {},
   "outputs": [
    {
     "name": "stdout",
     "output_type": "stream",
     "text": [
      "test here now\n"
     ]
    }
   ],
   "source": [
    "print(\"test here now\")"
   ]
  },
  {
   "cell_type": "code",
   "execution_count": 3,
   "id": "caa4f0dc",
   "metadata": {},
   "outputs": [
    {
     "name": "stdout",
     "output_type": "stream",
     "text": [
      "I'm gonna ask you.\n",
      "What is your food today?: tuna\n",
      "tuna is delicious!\n"
     ]
    }
   ],
   "source": [
    "ask = \"I'm gonna ask you.\"\n",
    "ask += \"\\nWhat is your food today?: \"\n",
    "answer = input(ask)\n",
    "print(answer + \" is delicious!\")"
   ]
  },
  {
   "cell_type": "code",
   "execution_count": 4,
   "id": "256eaf5d",
   "metadata": {},
   "outputs": [
    {
     "name": "stdout",
     "output_type": "stream",
     "text": [
      "\n",
      "Here is a list of the Python keywords.  Enter any keyword to get more help.\n",
      "\n",
      "False               break               for                 not\n",
      "None                class               from                or\n",
      "True                continue            global              pass\n",
      "__peg_parser__      def                 if                  raise\n",
      "and                 del                 import              return\n",
      "as                  elif                in                  try\n",
      "assert              else                is                  while\n",
      "async               except              lambda              with\n",
      "await               finally             nonlocal            yield\n",
      "\n"
     ]
    }
   ],
   "source": [
    "help(\"keywords\")"
   ]
  },
  {
   "cell_type": "code",
   "execution_count": 6,
   "id": "e7140ecc",
   "metadata": {},
   "outputs": [
    {
     "name": "stdout",
     "output_type": "stream",
     "text": [
      "number 1: 2\n",
      "number 2: 2\n",
      "equal number detected...\n"
     ]
    }
   ],
   "source": [
    "input1 = input(\"number 1: \")\n",
    "input2 = input(\"number 2: \")\n",
    "\n",
    "if input1 == input2:\n",
    "    print(\"equal number detected...\")"
   ]
  },
  {
   "cell_type": "code",
   "execution_count": 8,
   "id": "12bfda11",
   "metadata": {},
   "outputs": [
    {
     "name": "stdout",
     "output_type": "stream",
     "text": [
      "2457478589072\n"
     ]
    }
   ],
   "source": [
    "# get memory address of our variable using id() function\n",
    "info = 12\n",
    "memaddress = id(info)\n",
    "print(memaddress)"
   ]
  },
  {
   "cell_type": "code",
   "execution_count": 10,
   "id": "ef5be078",
   "metadata": {},
   "outputs": [
    {
     "name": "stdout",
     "output_type": "stream",
     "text": [
      "a function huh\n"
     ]
    }
   ],
   "source": [
    "# local variable here as it is inside a function\n",
    "def justafunction():\n",
    "    info = \"a function huh\"\n",
    "    print(info)\n",
    "justafunction()"
   ]
  },
  {
   "cell_type": "code",
   "execution_count": 12,
   "id": "cf9bac00",
   "metadata": {},
   "outputs": [
    {
     "name": "stdout",
     "output_type": "stream",
     "text": [
      "12\n"
     ]
    }
   ],
   "source": [
    "# global variable as created on main program\n",
    "# we call info variable, but its not modified by previous function\n",
    "\n",
    "print(info)\n",
    "\n",
    "#global variable = good memory management\n",
    "#local variable = apps run faster"
   ]
  }
 ],
 "metadata": {
  "kernelspec": {
   "display_name": "Python 3 (ipykernel)",
   "language": "python",
   "name": "python3"
  },
  "language_info": {
   "codemirror_mode": {
    "name": "ipython",
    "version": 3
   },
   "file_extension": ".py",
   "mimetype": "text/x-python",
   "name": "python",
   "nbconvert_exporter": "python",
   "pygments_lexer": "ipython3",
   "version": "3.9.13"
  }
 },
 "nbformat": 4,
 "nbformat_minor": 5
}
