{
 "cells": [
  {
   "cell_type": "code",
   "execution_count": 1,
   "id": "d64ebee6",
   "metadata": {},
   "outputs": [
    {
     "name": "stdout",
     "output_type": "stream",
     "text": [
      "int_num detected as > 5 - continuing...\n"
     ]
    }
   ],
   "source": [
    "#!/usr/bin/env python3\n",
    "\n",
    "import sys    #used for sys.exit function\n",
    "\n",
    "int_num = 7\n",
    "\n",
    "\n",
    "if int_num < 6:\n",
    "    sys.exit(\"int_num must be greater than 5\")\n",
    "else:\n",
    "    print(\"int_num detected as > 5 - continuing...\")\n",
    "    "
   ]
  },
  {
   "cell_type": "code",
   "execution_count": 4,
   "id": "2addc172",
   "metadata": {},
   "outputs": [
    {
     "name": "stdout",
     "output_type": "stream",
     "text": [
      "Enter number:2\n",
      "Number detected...\n"
     ]
    }
   ],
   "source": [
    "## # ask user at here\n",
    "# for python 2.x, use raw_input()\n",
    "# for python 3.x ,use input() \n",
    "\n",
    "# try-catch any possible error like\n",
    "# if user enter non-number\n",
    "try:\n",
    "    target_int= input(\"Enter number:\")   \n",
    "    target_int = int(target_int)\n",
    "#     target_int =  int(input(\"Enter number:\"))   #short way \n",
    "    print(\"Number detected...\")\n",
    "except ValueError:\n",
    "#     sys.exit()\n",
    "    print(\"Please enter number only.\")\n"
   ]
  },
  {
   "cell_type": "code",
   "execution_count": 5,
   "id": "b001f93b",
   "metadata": {},
   "outputs": [
    {
     "name": "stdout",
     "output_type": "stream",
     "text": [
      "Please enter number 1:1\n",
      "number added...\n",
      "count added..\n",
      "Please enter number 2:2\n",
      "number added...\n",
      "count added..\n"
     ]
    }
   ],
   "source": [
    "\n",
    "ints = list()\n",
    "count = 0\n",
    "\n",
    "#loop here\n",
    "while count < target_int:   #if number less than entered number\n",
    "    new_num = input(\"Please enter number {0}:\".format(count + 1))\n",
    "    isint = False\n",
    "    \n",
    "    # try-catch again\n",
    "    try:\n",
    "        new_num = int(new_num)\n",
    "        isint = True\n",
    "    except:\n",
    "        print(\"Enter only number\")\n",
    "        \n",
    "    #if number detected, add it on list\n",
    "    if isint == True:\n",
    "        ints.append(new_num)\n",
    "        print(\"number added...\")\n",
    "        count += 1\n",
    "        print(\"count added..\")\n"
   ]
  }
 ],
 "metadata": {
  "kernelspec": {
   "display_name": "Python 3 (ipykernel)",
   "language": "python",
   "name": "python3"
  },
  "language_info": {
   "codemirror_mode": {
    "name": "ipython",
    "version": 3
   },
   "file_extension": ".py",
   "mimetype": "text/x-python",
   "name": "python",
   "nbconvert_exporter": "python",
   "pygments_lexer": "ipython3",
   "version": "3.9.13"
  }
 },
 "nbformat": 4,
 "nbformat_minor": 5
}
