{
 "cells": [
  {
   "cell_type": "code",
   "execution_count": 1,
   "id": "84ed99a5",
   "metadata": {},
   "outputs": [
    {
     "name": "stdout",
     "output_type": "stream",
     "text": [
      "['New ', 'list ', 'is ', 'here']\n"
     ]
    }
   ],
   "source": [
    "# manipulating list\n",
    "\n",
    "new_list = list()\n",
    "new_list.append(\"New \")\n",
    "new_list.append(\"list \")\n",
    "new_list.append(\"is \")\n",
    "new_list.append(\"here\")\n",
    "print(new_list)"
   ]
  },
  {
   "cell_type": "code",
   "execution_count": 2,
   "id": "a3b7609c",
   "metadata": {},
   "outputs": [
    {
     "name": "stdout",
     "output_type": "stream",
     "text": [
      "2\n",
      "[5, 4]\n",
      "[2, 1]\n",
      "[5, 4, 3, 2, 1]\n"
     ]
    }
   ],
   "source": [
    "# child list, lists contained within a list\n",
    "xlist = [[1,2,3],4,5,6,7]\n",
    "xlist2 = [5,4,3,2,1]\n",
    "print(xlist[0][1])\n",
    "\n",
    "# slicing list, remove from end\n",
    "print(xlist2[:2])\n",
    "\n",
    "# remove from start\n",
    "print(xlist2[3:])\n",
    "\n",
    "# show all list\n",
    "print(xlist2[:])"
   ]
  },
  {
   "cell_type": "code",
   "execution_count": 11,
   "id": "dac0c1ae",
   "metadata": {},
   "outputs": [
    {
     "name": "stdout",
     "output_type": "stream",
     "text": [
      "['a', 'b', 'c', 'd']\n",
      "['a', 'b', 'c']\n"
     ]
    }
   ],
   "source": [
    "# edit then delete element inside list\n",
    "\n",
    "thisList =['a','b','c','e']\n",
    "thisList[-1] = 'd'\n",
    "print(thisList)\n",
    "\n",
    "del(thisList[3])\n",
    "print(thisList)"
   ]
  },
  {
   "cell_type": "code",
   "execution_count": 9,
   "id": "410805f1",
   "metadata": {},
   "outputs": [
    {
     "name": "stdout",
     "output_type": "stream",
     "text": [
      "['a', 'b', 'c', 5, 4, 3, 2, 1, 5, 4, 3, 2, 1]\n"
     ]
    }
   ],
   "source": [
    "# concatenate and replicate like string\n",
    "\n",
    "print(thisList + xlist2 * 2)"
   ]
  },
  {
   "cell_type": "code",
   "execution_count": 13,
   "id": "94365d69",
   "metadata": {},
   "outputs": [
    {
     "name": "stdout",
     "output_type": "stream",
     "text": [
      "False\n"
     ]
    }
   ],
   "source": [
    "#condition with boolean test\n",
    "\n",
    "isFound = 'd' in thisList\n",
    "print(isFound)"
   ]
  },
  {
   "cell_type": "code",
   "execution_count": 19,
   "id": "159da8ed",
   "metadata": {},
   "outputs": [
    {
     "name": "stdout",
     "output_type": "stream",
     "text": [
      "0\n"
     ]
    }
   ],
   "source": [
    "# check location via index\n",
    "print(xlist2.index(5))"
   ]
  },
  {
   "cell_type": "code",
   "execution_count": 20,
   "id": "d16753a6",
   "metadata": {},
   "outputs": [
    {
     "name": "stdout",
     "output_type": "stream",
     "text": [
      "[6, 5, 4, 3, 2, 1]\n"
     ]
    }
   ],
   "source": [
    "# insert element\n",
    "xlist2.insert(0,6)\n",
    "print(xlist2)"
   ]
  },
  {
   "cell_type": "code",
   "execution_count": 21,
   "id": "bc127b14",
   "metadata": {},
   "outputs": [
    {
     "name": "stdout",
     "output_type": "stream",
     "text": [
      "[1, 2, 3, 4, 5, 6]\n"
     ]
    }
   ],
   "source": [
    "# sort now, alphabetically, numerically ascending\n",
    "xlist2.sort()\n",
    "print(xlist2)"
   ]
  }
 ],
 "metadata": {
  "kernelspec": {
   "display_name": "Python 3 (ipykernel)",
   "language": "python",
   "name": "python3"
  },
  "language_info": {
   "codemirror_mode": {
    "name": "ipython",
    "version": 3
   },
   "file_extension": ".py",
   "mimetype": "text/x-python",
   "name": "python",
   "nbconvert_exporter": "python",
   "pygments_lexer": "ipython3",
   "version": "3.9.13"
  }
 },
 "nbformat": 4,
 "nbformat_minor": 5
}
