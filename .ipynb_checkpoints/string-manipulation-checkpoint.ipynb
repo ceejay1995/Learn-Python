{
 "cells": [
  {
   "cell_type": "code",
   "execution_count": 1,
   "id": "7d7edc60",
   "metadata": {},
   "outputs": [
    {
     "name": "stdout",
     "output_type": "stream",
     "text": [
      "H \n",
      " e \n",
      " d\n",
      "He\n"
     ]
    }
   ],
   "source": [
    "hello_str = \"Hello World\" #string type, immutable per character\n",
    "\n",
    "# 1st character, 2nd character, last character\n",
    "print(hello_str[0],\"\\n\",\n",
    "      hello_str[1],\"\\n\",\n",
    "     hello_str[-1])\n",
    "\n",
    "# slice on first 2 characters\n",
    "print(hello_str[0:2])"
   ]
  },
  {
   "cell_type": "code",
   "execution_count": 2,
   "id": "855423e8",
   "metadata": {},
   "outputs": [
    {
     "name": "stdout",
     "output_type": "stream",
     "text": [
      "I got 3 apples\n"
     ]
    }
   ],
   "source": [
    "# string format\n",
    "# %d for integers\n",
    "print (\"I got %d apples\" %3)"
   ]
  },
  {
   "cell_type": "code",
   "execution_count": 3,
   "id": "7f76cce0",
   "metadata": {},
   "outputs": [
    {
     "name": "stdout",
     "output_type": "stream",
     "text": [
      "The cat ran from ghost\n"
     ]
    }
   ],
   "source": [
    "# %s for string\n",
    "print (\"%s ran from ghost\" %\"The cat\")"
   ]
  },
  {
   "cell_type": "code",
   "execution_count": 4,
   "id": "e01e067e",
   "metadata": {},
   "outputs": [
    {
     "name": "stdout",
     "output_type": "stream",
     "text": [
      "I have a pen\n"
     ]
    }
   ],
   "source": [
    "# concatenate, use whitespace for readability\n",
    "print(\"I have\" + \" a \" + \"pen\")"
   ]
  },
  {
   "cell_type": "code",
   "execution_count": 5,
   "id": "bb857a37",
   "metadata": {},
   "outputs": [
    {
     "name": "stdout",
     "output_type": "stream",
     "text": [
      "yes yes  yow\n"
     ]
    }
   ],
   "source": [
    "# multiply\n",
    "yes = 'yes '* 2\n",
    "print(\"%s\" %yes,\"yow\")"
   ]
  },
  {
   "cell_type": "code",
   "execution_count": 6,
   "id": "ca85c270",
   "metadata": {},
   "outputs": [
    {
     "name": "stdout",
     "output_type": "stream",
     "text": [
      "Monday today, tomorrow is Tuesday\n"
     ]
    }
   ],
   "source": [
    "# append\n",
    "day = \"Monday today, tomorrow is \"\n",
    "day += \"Tuesday\"\n",
    "print(day)"
   ]
  },
  {
   "cell_type": "code",
   "execution_count": 8,
   "id": "98a4f780",
   "metadata": {},
   "outputs": [
    {
     "name": "stdout",
     "output_type": "stream",
     "text": [
      "6\n"
     ]
    }
   ],
   "source": [
    "# length\n",
    "num = 123456\n",
    "print(len(str(num)))"
   ]
  },
  {
   "cell_type": "code",
   "execution_count": null,
   "id": "f9d331a9",
   "metadata": {},
   "outputs": [],
   "source": [
    "# find string part\n",
    "word = \"So fun here\""
   ]
  }
 ],
 "metadata": {
  "kernelspec": {
   "display_name": "Python 3 (ipykernel)",
   "language": "python",
   "name": "python3"
  },
  "language_info": {
   "codemirror_mode": {
    "name": "ipython",
    "version": 3
   },
   "file_extension": ".py",
   "mimetype": "text/x-python",
   "name": "python",
   "nbconvert_exporter": "python",
   "pygments_lexer": "ipython3",
   "version": "3.9.13"
  }
 },
 "nbformat": 4,
 "nbformat_minor": 5
}
