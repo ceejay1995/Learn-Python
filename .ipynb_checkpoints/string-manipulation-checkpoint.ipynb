{
 "cells": [
  {
   "cell_type": "code",
   "execution_count": null,
   "id": "74743d5f",
   "metadata": {},
   "outputs": [],
   "source": [
    "hello_str = \"Hello World\" #string type, immutable per character\n",
    "\n",
    "# 1st character, 2nd character, last character\n",
    "print(hello_str[0],\"\\n\",\n",
    "      hello_str[1],\"\\n\",\n",
    "     hello_str[-1])\n",
    "\n",
    "# slice on first 2 characters\n",
    "#print(hello_str[0:2])\n",
    "\n",
    "# string format\n"
   ]
  }
 ],
 "metadata": {
  "kernelspec": {
   "display_name": "Python 3 (ipykernel)",
   "language": "python",
   "name": "python3"
  },
  "language_info": {
   "codemirror_mode": {
    "name": "ipython",
    "version": 3
   },
   "file_extension": ".py",
   "mimetype": "text/x-python",
   "name": "python",
   "nbconvert_exporter": "python",
   "pygments_lexer": "ipython3",
   "version": "3.9.13"
  }
 },
 "nbformat": 4,
 "nbformat_minor": 5
}
