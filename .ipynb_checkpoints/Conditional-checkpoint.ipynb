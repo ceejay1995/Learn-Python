{
 "cells": [
  {
   "cell_type": "code",
   "execution_count": 4,
   "id": "8a2ee335",
   "metadata": {},
   "outputs": [
    {
     "name": "stdout",
     "output_type": "stream",
     "text": [
      "not divisible by 2\n"
     ]
    }
   ],
   "source": [
    "# basic if-else statement\n",
    "# choose between code blocks to run\n",
    "# indent is required for code to get executed: after if, after else\n",
    "\n",
    "x = 7\n",
    "if x % 2 == 0:\n",
    "    print(\"divisible by 2\")\n",
    "else:\n",
    "    print(\"not divisible by 2\")"
   ]
  },
  {
   "cell_type": "code",
   "execution_count": 10,
   "id": "6990c74e",
   "metadata": {},
   "outputs": [
    {
     "name": "stdout",
     "output_type": "stream",
     "text": [
      "not divisble by 3 or 4\n"
     ]
    }
   ],
   "source": [
    "# multiple conditional expressions\n",
    "# using if-elif-else\n",
    "\n",
    "num = 7\n",
    "if num % 3 == 0:\n",
    "    print('divisible by 3')\n",
    "elif num % 4 == 0:\n",
    "    print('divisible by 4')\n",
    "else:\n",
    "    print('not divisble by 3 or 4')"
   ]
  }
 ],
 "metadata": {
  "kernelspec": {
   "display_name": "Python 3 (ipykernel)",
   "language": "python",
   "name": "python3"
  },
  "language_info": {
   "codemirror_mode": {
    "name": "ipython",
    "version": 3
   },
   "file_extension": ".py",
   "mimetype": "text/x-python",
   "name": "python",
   "nbconvert_exporter": "python",
   "pygments_lexer": "ipython3",
   "version": "3.9.13"
  }
 },
 "nbformat": 4,
 "nbformat_minor": 5
}
