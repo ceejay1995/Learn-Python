{
 "cells": [
  {
   "cell_type": "code",
   "execution_count": 2,
   "id": "5919943e",
   "metadata": {},
   "outputs": [
    {
     "name": "stdout",
     "output_type": "stream",
     "text": [
      "Hi, Angelo\n"
     ]
    }
   ],
   "source": [
    "# Scope divided into\n",
    "# Local and Global scope\n",
    "# important to maintain garbage mechanism, for memory cleanup\n",
    "\n",
    "# rules with local-global scope\n",
    "# 1 - local scope variables not accessible in global scope\n",
    "# 2 - regardless of scope, all function can use all variables\n",
    "# 3 - local scope variable used by one function can't be used by another\n",
    "\n",
    "# best practice - use different names for global and local variable\n",
    "\n",
    "# global scope here\n",
    "\n",
    "name = \"Angelo\"\n",
    "# variable in main program\n",
    "# can be called anywhere\n",
    "# initialized once only, so frequent call makes app run bit faster\n",
    "\n",
    "def func1():\n",
    "    print(\"Hi,\",name)\n",
    "    \n",
    "func1()"
   ]
  },
  {
   "cell_type": "code",
   "execution_count": 3,
   "id": "864598d6",
   "metadata": {},
   "outputs": [
    {
     "name": "stdout",
     "output_type": "stream",
     "text": [
      "Hi, Baby\n"
     ]
    }
   ],
   "source": [
    "# local scope here\n",
    "\n",
    "def func2():\n",
    "    name = \"Baby\"  # variable created inside of function\n",
    "    print(\"Hi,\",name) #override global variable due to scope\n",
    "    \n",
    "func2()"
   ]
  },
  {
   "cell_type": "code",
   "execution_count": 4,
   "id": "0bed4bfd",
   "metadata": {},
   "outputs": [
    {
     "ename": "NameError",
     "evalue": "name 'x' is not defined",
     "output_type": "error",
     "traceback": [
      "\u001b[1;31m---------------------------------------------------------------------------\u001b[0m",
      "\u001b[1;31mNameError\u001b[0m                                 Traceback (most recent call last)",
      "\u001b[1;32m~\\AppData\\Local\\Temp\\ipykernel_796\\80707352.py\u001b[0m in \u001b[0;36m<module>\u001b[1;34m\u001b[0m\n\u001b[0;32m      5\u001b[0m     \u001b[0mprint\u001b[0m\u001b[1;33m(\u001b[0m\u001b[0mx\u001b[0m\u001b[1;33m)\u001b[0m\u001b[1;33m\u001b[0m\u001b[1;33m\u001b[0m\u001b[0m\n\u001b[0;32m      6\u001b[0m \u001b[1;33m\u001b[0m\u001b[0m\n\u001b[1;32m----> 7\u001b[1;33m \u001b[0mnum2\u001b[0m\u001b[1;33m(\u001b[0m\u001b[1;33m)\u001b[0m  \u001b[1;31m# error will occur, x not defined\u001b[0m\u001b[1;33m\u001b[0m\u001b[1;33m\u001b[0m\u001b[0m\n\u001b[0m",
      "\u001b[1;32m~\\AppData\\Local\\Temp\\ipykernel_796\\80707352.py\u001b[0m in \u001b[0;36mnum2\u001b[1;34m()\u001b[0m\n\u001b[0;32m      3\u001b[0m \u001b[1;33m\u001b[0m\u001b[0m\n\u001b[0;32m      4\u001b[0m \u001b[1;32mdef\u001b[0m \u001b[0mnum2\u001b[0m\u001b[1;33m(\u001b[0m\u001b[1;33m)\u001b[0m\u001b[1;33m:\u001b[0m\u001b[1;33m\u001b[0m\u001b[1;33m\u001b[0m\u001b[0m\n\u001b[1;32m----> 5\u001b[1;33m     \u001b[0mprint\u001b[0m\u001b[1;33m(\u001b[0m\u001b[0mx\u001b[0m\u001b[1;33m)\u001b[0m\u001b[1;33m\u001b[0m\u001b[1;33m\u001b[0m\u001b[0m\n\u001b[0m\u001b[0;32m      6\u001b[0m \u001b[1;33m\u001b[0m\u001b[0m\n\u001b[0;32m      7\u001b[0m \u001b[0mnum2\u001b[0m\u001b[1;33m(\u001b[0m\u001b[1;33m)\u001b[0m  \u001b[1;31m# error will occur, x not defined\u001b[0m\u001b[1;33m\u001b[0m\u001b[1;33m\u001b[0m\u001b[0m\n",
      "\u001b[1;31mNameError\u001b[0m: name 'x' is not defined"
     ]
    }
   ],
   "source": [
    "def num():\n",
    "    x = \"for this function\"\n",
    "    \n",
    "def num2():\n",
    "    print(x)\n",
    "\n",
    "num2()  # error will occur, x is not defined"
   ]
  }
 ],
 "metadata": {
  "kernelspec": {
   "display_name": "Python 3 (ipykernel)",
   "language": "python",
   "name": "python3"
  },
  "language_info": {
   "codemirror_mode": {
    "name": "ipython",
    "version": 3
   },
   "file_extension": ".py",
   "mimetype": "text/x-python",
   "name": "python",
   "nbconvert_exporter": "python",
   "pygments_lexer": "ipython3",
   "version": "3.9.13"
  }
 },
 "nbformat": 4,
 "nbformat_minor": 5
}
