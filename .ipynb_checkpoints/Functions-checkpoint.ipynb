{
 "cells": [
  {
   "cell_type": "code",
   "execution_count": 1,
   "id": "933cf41a",
   "metadata": {},
   "outputs": [
    {
     "name": "stdout",
     "output_type": "stream",
     "text": [
      "Hi, welcome to Python\n"
     ]
    }
   ],
   "source": [
    "# functions\n",
    "# code block that grouped and executed by calling its name\n",
    "\n",
    "def welcome():\n",
    "    print(\"Hi, welcome to Python\")\n",
    "\n",
    "# call function \n",
    "welcome()"
   ]
  },
  {
   "cell_type": "code",
   "execution_count": 2,
   "id": "9d5ce3be",
   "metadata": {},
   "outputs": [
    {
     "name": "stdout",
     "output_type": "stream",
     "text": [
      "Hi, welcome Mark in Python\n"
     ]
    }
   ],
   "source": [
    "# function with parameter\n",
    "\n",
    "def greet(name):\n",
    "    print(\"Hi, welcome\",name,\"in Python\")\n",
    "\n",
    "greet(\"Mark\")"
   ]
  },
  {
   "cell_type": "code",
   "execution_count": 4,
   "id": "da59411c",
   "metadata": {},
   "outputs": [
    {
     "name": "stdout",
     "output_type": "stream",
     "text": [
      "Hi Carl and I know your age is 28\n"
     ]
    }
   ],
   "source": [
    "# function using positional arguments\n",
    "\n",
    "def person(name,age):\n",
    "    print(\"Hi\",name,\"and I know your age is\",age)\n",
    "    \n",
    "person(\"Carl\",28)"
   ]
  },
  {
   "cell_type": "code",
   "execution_count": 5,
   "id": "2c6b11ed",
   "metadata": {},
   "outputs": [
    {
     "name": "stdout",
     "output_type": "stream",
     "text": [
      "Hi Teddy and I know your age is 22\n"
     ]
    }
   ],
   "source": [
    "# function using keyword arguments\n",
    "# used by argument name and the supplied value\n",
    "\n",
    "person(age = 22,name = \"Teddy\")"
   ]
  },
  {
   "cell_type": "code",
   "execution_count": 6,
   "id": "2b0203a0",
   "metadata": {},
   "outputs": [
    {
     "name": "stdout",
     "output_type": "stream",
     "text": [
      "Favorite food: Chicken \n",
      "and number: 3\n"
     ]
    }
   ],
   "source": [
    "# function with default value\n",
    "# useful when user don't want to specify value to required or \n",
    "# optional argument\n",
    "\n",
    "def favorite(meal = \"Chicken\", number = 1):\n",
    "    print(\"Favorite food:\",meal,\"\\nand number:\",number)\n",
    "\n",
    "favorite(number = 3)\n"
   ]
  }
 ],
 "metadata": {
  "kernelspec": {
   "display_name": "Python 3 (ipykernel)",
   "language": "python",
   "name": "python3"
  },
  "language_info": {
   "codemirror_mode": {
    "name": "ipython",
    "version": 3
   },
   "file_extension": ".py",
   "mimetype": "text/x-python",
   "name": "python",
   "nbconvert_exporter": "python",
   "pygments_lexer": "ipython3",
   "version": "3.9.13"
  }
 },
 "nbformat": 4,
 "nbformat_minor": 5
}
