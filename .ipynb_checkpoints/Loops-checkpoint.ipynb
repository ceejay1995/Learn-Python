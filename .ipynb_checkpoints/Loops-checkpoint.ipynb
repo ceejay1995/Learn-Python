{
 "cells": [
  {
   "cell_type": "code",
   "execution_count": 1,
   "id": "2fe9cc54",
   "metadata": {},
   "outputs": [
    {
     "name": "stdout",
     "output_type": "stream",
     "text": [
      "sum of numbers:  15\n"
     ]
    }
   ],
   "source": [
    "# for loop\n",
    "# best use for identified counter\n",
    "# for i in number:\n",
    "#    loop these block\n",
    "\n",
    "numbers = [1,2,3,4,5]\n",
    "out = 0\n",
    "for num in numbers:\n",
    "    out += num     # same with:  out = out + num\n",
    "\n",
    "print(\"sum of numbers: \",out)"
   ]
  },
  {
   "cell_type": "code",
   "execution_count": 8,
   "id": "bf940183",
   "metadata": {},
   "outputs": [
    {
     "name": "stdout",
     "output_type": "stream",
     "text": [
      "Give me number: 5\n",
      "sum of numbers from 1 to 5 is 15\n"
     ]
    }
   ],
   "source": [
    "# while loop\n",
    "# best use with condition at start\n",
    "# while condition\n",
    "#    loop these block\n",
    "\n",
    "count = 0\n",
    "num = 1\n",
    "data = int(input(\"Give me number: \"))\n",
    "\n",
    "while num <= data:\n",
    "    count = count + num\n",
    "    num += 1\n",
    "\n",
    "print(\"sum of numbers from 1 to\",data,\"is\",count)"
   ]
  },
  {
   "cell_type": "code",
   "execution_count": 13,
   "id": "82fd0341",
   "metadata": {},
   "outputs": [
    {
     "name": "stdout",
     "output_type": "stream",
     "text": [
      "2 is divisible by 2\n",
      "3 is divisible by 3\n"
     ]
    }
   ],
   "source": [
    "# way to exit loop\n",
    "# Break and Continue\n",
    "\n",
    "# here once interpreter encounter break\n",
    "# it will immediately end on that line\n",
    "\n",
    "startnum = 1\n",
    "endnum = 10\n",
    "while startnum <= endnum:\n",
    "    if startnum % 2 == 0:\n",
    "        print(startnum,'is divisible by 2')\n",
    "    if startnum % 3 == 0:\n",
    "        print(startnum,'is divisible by 3')\n",
    "        break\n",
    "        print(\" i'm not called due to break T_T \")\n",
    "    startnum += 1\n"
   ]
  },
  {
   "cell_type": "code",
   "execution_count": 15,
   "id": "180010c9",
   "metadata": {},
   "outputs": [
    {
     "name": "stdout",
     "output_type": "stream",
     "text": [
      "letter: p\n",
      "letter: r\n",
      "letter: g\n",
      "letter: r\n",
      "letter: a\n",
      "letter: m\n",
      "letter: m\n",
      "letter: i\n",
      "letter: n\n",
      "letter: g\n"
     ]
    }
   ],
   "source": [
    "# continue here\n",
    "# once interpreter reach this word, it will go to next iteration instead\n",
    "# will not end but will skip the next lines/block\n",
    "\n",
    "for char in 'programming':\n",
    "    if char == 'o':\n",
    "        continue\n",
    "    print('letter:',char)"
   ]
  },
  {
   "cell_type": "code",
   "execution_count": 17,
   "id": "5917d96d",
   "metadata": {},
   "outputs": [
    {
     "name": "stdout",
     "output_type": "stream",
     "text": [
      "Give me word:octopus\n",
      " a: 0 \n",
      " e: 0 \n",
      " i: 0 \n",
      " o: 2 \n",
      " u: 1 \n",
      "\n"
     ]
    }
   ],
   "source": [
    "\n",
    "# accept word from user\n",
    "# count number of vowels instance\n",
    "# display it\n",
    "\n",
    "a = 0\n",
    "e = 0\n",
    "i = 0\n",
    "o = 0\n",
    "u = 0\n",
    "\n",
    "word = str(input(\"Give me word:\"))\n",
    "for letter in word:\n",
    "    if letter == 'a':\n",
    "        a += 1\n",
    "    elif letter == 'e':\n",
    "        e += 1\n",
    "    elif letter == 'i':\n",
    "        i += 1\n",
    "    elif letter == 'o':\n",
    "        o += 1\n",
    "    elif letter == 'u':\n",
    "        u += 1\n",
    "        \n",
    "print(' a:',a,'\\n',\n",
    "      'e:',e,'\\n',\n",
    "      'i:',i,'\\n',\n",
    "      'o:',o,'\\n',\n",
    "      'u:',u,'\\n'\n",
    "     )"
   ]
  }
 ],
 "metadata": {
  "kernelspec": {
   "display_name": "Python 3 (ipykernel)",
   "language": "python",
   "name": "python3"
  },
  "language_info": {
   "codemirror_mode": {
    "name": "ipython",
    "version": 3
   },
   "file_extension": ".py",
   "mimetype": "text/x-python",
   "name": "python",
   "nbconvert_exporter": "python",
   "pygments_lexer": "ipython3",
   "version": "3.9.13"
  }
 },
 "nbformat": 4,
 "nbformat_minor": 5
}
