{
 "cells": [
  {
   "cell_type": "code",
   "execution_count": null,
   "id": "dbd84df0",
   "metadata": {},
   "outputs": [],
   "source": [
    "# Inheritance\n",
    "# process where new class called 'child class'\n",
    "# inherit all methods the 'main class' have\n",
    "\n",
    "# useful to extend main class by adding methods on new class\n",
    "# via code reusability"
   ]
  },
  {
   "cell_type": "code",
   "execution_count": 1,
   "id": "4c3e2116",
   "metadata": {},
   "outputs": [],
   "source": [
    "# Base class (main)\n",
    "\n",
    "class Poly:\n",
    "    def __init__(self,a_edges):\n",
    "        self.a_edges = a_edges\n",
    "        \n",
    "    def edges(self):\n",
    "        return self.a_edges"
   ]
  },
  {
   "cell_type": "code",
   "execution_count": 2,
   "id": "07c31dbd",
   "metadata": {},
   "outputs": [],
   "source": [
    "# child class\n",
    "\n",
    "class Rectangle(Poly):    # insert main class in child as paramter\n",
    "    def __init__(self,length,width):\n",
    "        Poly.__init__(self,4)    # call the main init method now\n",
    "        self.length = length\n",
    "        self.width = width\n",
    "    \n",
    "    def area(self):\n",
    "        return self.length * self.width"
   ]
  },
  {
   "cell_type": "code",
   "execution_count": 3,
   "id": "afca1134",
   "metadata": {},
   "outputs": [
    {
     "name": "stdout",
     "output_type": "stream",
     "text": [
      "Edges: 4\n",
      "Area: 400\n"
     ]
    }
   ],
   "source": [
    "# instantiate class here\n",
    "\n",
    "rect = Rectangle(20,20)\n",
    "\n",
    "# print value\n",
    "\n",
    "print(\"Edges:\",rect.edges())\n",
    "print('Area:',rect.area())"
   ]
  },
  {
   "cell_type": "code",
   "execution_count": 24,
   "id": "5a814711",
   "metadata": {},
   "outputs": [
    {
     "name": "stdout",
     "output_type": "stream",
     "text": [
      "Ceejay age of 28 working as NOC\n",
      "My subjects listed here: ('IT', 'English', 'Filipino')\n"
     ]
    }
   ],
   "source": [
    "# Exercise\n",
    "\n",
    "# Person as main, Student as subclass\n",
    "# Person with get (name,age,occupation)\n",
    "# Student with get (subjects)\n",
    "# from Student, display all values\n",
    "\n",
    "class Person:\n",
    "    # constructor\n",
    "    def __init__(self,name,age,occupation):\n",
    "        self.name = name\n",
    "        self.age = age\n",
    "        self.occupation = occupation\n",
    "    \n",
    "    # methods\n",
    "    def get_name(self):\n",
    "        return self.name\n",
    "    def get_age(self):\n",
    "        return self.age\n",
    "    def get_occupation(self):\n",
    "        return self.occupation\n",
    "\n",
    "class Student(Person):  # take in main class\n",
    "    def __init__(self,name,age,occupation,subjects): # set arguments\n",
    "        Person.__init__(self,name,age,occupation) # set required arguments from main\n",
    "        self.subjects = subjects #initialize subject attribute as instance attribute\n",
    "    \n",
    "    def get_subjects(self):\n",
    "        return self.subjects\n",
    "    \n",
    "#Test\n",
    "Me = Student(name = \"Ceejay\",age = 28, occupation = \"NOC\",subjects = ('IT','English','Filipino'))\n",
    "print(Me.get_name(),\"age of\",Me.get_age(),\"working as\",Me.get_occupation())\n",
    "print(\"My subjects listed here:\",Me.get_subjects())\n"
   ]
  }
 ],
 "metadata": {
  "kernelspec": {
   "display_name": "Python 3 (ipykernel)",
   "language": "python",
   "name": "python3"
  },
  "language_info": {
   "codemirror_mode": {
    "name": "ipython",
    "version": 3
   },
   "file_extension": ".py",
   "mimetype": "text/x-python",
   "name": "python",
   "nbconvert_exporter": "python",
   "pygments_lexer": "ipython3",
   "version": "3.9.13"
  }
 },
 "nbformat": 4,
 "nbformat_minor": 5
}
