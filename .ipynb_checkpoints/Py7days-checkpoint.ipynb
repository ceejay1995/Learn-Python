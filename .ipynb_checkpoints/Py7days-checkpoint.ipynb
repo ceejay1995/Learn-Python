{
 "cells": [
  {
   "cell_type": "code",
   "execution_count": 1,
   "id": "531d8af8",
   "metadata": {},
   "outputs": [
    {
     "name": "stdout",
     "output_type": "stream",
     "text": [
      "test here now\n"
     ]
    }
   ],
   "source": [
    "print(\"test here now\")"
   ]
  },
  {
   "cell_type": "code",
   "execution_count": 3,
   "id": "87535599",
   "metadata": {},
   "outputs": [
    {
     "name": "stdout",
     "output_type": "stream",
     "text": [
      "I'm gonna ask you.\n",
      "What is your food today?: tuna\n",
      "tuna is delicious!\n"
     ]
    }
   ],
   "source": [
    "ask = \"I'm gonna ask you.\"\n",
    "ask += \"\\nWhat is your food today?: \"\n",
    "answer = input(ask)\n",
    "print(answer + \" is delicious!\")"
   ]
  }
 ],
 "metadata": {
  "kernelspec": {
   "display_name": "Python 3 (ipykernel)",
   "language": "python",
   "name": "python3"
  },
  "language_info": {
   "codemirror_mode": {
    "name": "ipython",
    "version": 3
   },
   "file_extension": ".py",
   "mimetype": "text/x-python",
   "name": "python",
   "nbconvert_exporter": "python",
   "pygments_lexer": "ipython3",
   "version": "3.9.13"
  }
 },
 "nbformat": 4,
 "nbformat_minor": 5
}
