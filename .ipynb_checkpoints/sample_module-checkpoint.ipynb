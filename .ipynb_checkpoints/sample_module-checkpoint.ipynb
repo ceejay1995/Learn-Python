{
 "cells": [
  {
   "cell_type": "code",
   "execution_count": null,
   "id": "e382a70a",
   "metadata": {},
   "outputs": [],
   "source": [
    "# creating module\n",
    "\n",
    "# module is just group of functions\n",
    "# where main program must import file before functions can be called\n",
    "\n",
    "# function that add 2 numbers\n",
    "# return value as integer\n",
    "\n",
    "def sum(x,y):\n",
    "    val = x + y\n",
    "    return val\n"
   ]
  }
 ],
 "metadata": {
  "kernelspec": {
   "display_name": "Python 3 (ipykernel)",
   "language": "python",
   "name": "python3"
  },
  "language_info": {
   "codemirror_mode": {
    "name": "ipython",
    "version": 3
   },
   "file_extension": ".py",
   "mimetype": "text/x-python",
   "name": "python",
   "nbconvert_exporter": "python",
   "pygments_lexer": "ipython3",
   "version": "3.9.13"
  }
 },
 "nbformat": 4,
 "nbformat_minor": 5
}
