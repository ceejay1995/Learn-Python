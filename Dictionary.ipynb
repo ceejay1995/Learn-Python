{
 "cells": [
  {
   "cell_type": "code",
   "execution_count": 1,
   "id": "c180c7ff",
   "metadata": {},
   "outputs": [
    {
     "name": "stdout",
     "output_type": "stream",
     "text": [
      "{'EyeColor': 'Black', 'Gender': 'Male', 'Age': 20}\n"
     ]
    }
   ],
   "source": [
    "# dictionary here\n",
    "# key:value pair\n",
    "\n",
    "bio = {'EyeColor':'Black','Gender':'Male','Age':20}\n",
    "print(bio)"
   ]
  },
  {
   "cell_type": "code",
   "execution_count": 2,
   "id": "457d47cd",
   "metadata": {},
   "outputs": [
    {
     "name": "stdout",
     "output_type": "stream",
     "text": [
      "{'EyeColor': 'Black', 'Gender': 'Male', 'Age': 20, 'Address': {'Cavite', 'Philippines'}}\n"
     ]
    }
   ],
   "source": [
    "# nested dictionary\n",
    "# last one with 1 key: 2 values\n",
    "\n",
    "bio = {'EyeColor':'Black','Gender':'Male','Age':20,'Address':{'Cavite','Philippines'}}\n",
    "print(bio)"
   ]
  }
 ],
 "metadata": {
  "kernelspec": {
   "display_name": "Python 3 (ipykernel)",
   "language": "python",
   "name": "python3"
  },
  "language_info": {
   "codemirror_mode": {
    "name": "ipython",
    "version": 3
   },
   "file_extension": ".py",
   "mimetype": "text/x-python",
   "name": "python",
   "nbconvert_exporter": "python",
   "pygments_lexer": "ipython3",
   "version": "3.9.13"
  }
 },
 "nbformat": 4,
 "nbformat_minor": 5
}
