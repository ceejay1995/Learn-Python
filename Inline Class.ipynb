{
 "cells": [
  {
   "cell_type": "code",
   "execution_count": 1,
   "id": "6f68ecdc",
   "metadata": {},
   "outputs": [],
   "source": [
    "# inline class\n",
    "# class is group of objects and methods\n",
    "\n",
    "# Rules it must follow when using class\n",
    "# 1 - provide class name\n",
    "# 2 - create 1 attribute\n",
    "# 3 - must have self argument, and __init__ method\n",
    "# 4 - object must be instantiated\n",
    "# 5 - once instatiated, new instance attributes that use object can be created\n",
    "\n",
    "\n",
    "class Person:                #class name\n",
    "    specie = \"Homo Sapiens\"  #attribute\n",
    "    \n",
    "    def __init__(self,name): # init method with self argument\n",
    "        self.name = name     # name attribute as instance attribute\n",
    "    \n",
    "    # define method\n",
    "    def greet(self):         # self argument\n",
    "        return \"Hi, how are you \" + self.name + \"?\""
   ]
  },
  {
   "cell_type": "code",
   "execution_count": 2,
   "id": "5b864f8a",
   "metadata": {},
   "outputs": [
    {
     "name": "stdout",
     "output_type": "stream",
     "text": [
      "Hi, Mark\n",
      "Hi, how are you Jay?\n",
      "Both Mark and Jay are Homo Sapiens\n"
     ]
    }
   ],
   "source": [
    "# create 2 instances of Person, different names\n",
    "human1 = Person(\"Mark\")\n",
    "human2 = Person(\"Jay\")\n",
    "\n",
    "# print name attribute of human 1\n",
    "print(\"Hi,\",human1.name)\n",
    "\n",
    "# use class method to greet human 2\n",
    "print(human2.greet())\n",
    "\n",
    "# use the class attribute that is shared by all instance of class\n",
    "print(\"Both\",human1.name,\"and\",human2.name,\"are\",Person.specie)"
   ]
  }
 ],
 "metadata": {
  "kernelspec": {
   "display_name": "Python 3 (ipykernel)",
   "language": "python",
   "name": "python3"
  },
  "language_info": {
   "codemirror_mode": {
    "name": "ipython",
    "version": 3
   },
   "file_extension": ".py",
   "mimetype": "text/x-python",
   "name": "python",
   "nbconvert_exporter": "python",
   "pygments_lexer": "ipython3",
   "version": "3.9.13"
  }
 },
 "nbformat": 4,
 "nbformat_minor": 5
}
